{
  "metadata": {
    "kernelspec": {
      "name": "python",
      "display_name": "Python (Pyodide)",
      "language": "python"
    },
    "language_info": {
      "codemirror_mode": {
        "name": "python",
        "version": 3
      },
      "file_extension": ".py",
      "mimetype": "text/x-python",
      "name": "python",
      "nbconvert_exporter": "python",
      "pygments_lexer": "ipython3",
      "version": "3.8"
    }
  },
  "nbformat_minor": 5,
  "nbformat": 4,
  "cells": [
    {
      "id": "83d1513c-dd6f-4294-b586-6ce556a28ed4",
      "cell_type": "markdown",
      "source": "# Data Science Tools and Ecosystem",
      "metadata": {}
    },
    {
      "id": "e9360aaf-f283-4eaa-aaf6-49c3f1270d96",
      "cell_type": "markdown",
      "source": "**Objectives:**\n\n- List popular languages for Data Science\n- List commonly used libraries in Data Science\n- List popular development environment open source tools used in Data Science\n- Show examples of arithmetic expressions",
      "metadata": {}
    },
    {
      "id": "883410f3-8829-4c03-b1e4-27e1279ddad0",
      "cell_type": "markdown",
      "source": "In this notebook, Data Science Tools and Ecosystem are summarized.",
      "metadata": {}
    },
    {
      "id": "9e922ae0-79c8-4202-b2f4-c518b2a142bd",
      "cell_type": "markdown",
      "source": "Some of the popular languages that Data Scientists use are:\n\n1. Python\n2. R\n3. SQL",
      "metadata": {}
    },
    {
      "id": "b6530d47-1a0a-4c3e-8bf5-e0d434181846",
      "cell_type": "markdown",
      "source": "Some of the commonly used libraries used by Data Scientists include:\n\n1. Pandas\n2. Numpy\n3. Matplotlib",
      "metadata": {}
    },
    {
      "id": "90051d0b-65b1-4288-9b17-de4d17796727",
      "cell_type": "markdown",
      "source": "|Data Science Tools|\n|----|\n|Jupyter Notebook|\n|RStudio|\n|VS Code|",
      "metadata": {}
    },
    {
      "id": "0f46b3b1-f4ee-4fa8-8d21-e5cf5d321434",
      "cell_type": "markdown",
      "source": "### Below are a few examples of evaluating arithmetic expressions in Python",
      "metadata": {}
    },
    {
      "id": "26968934-b34d-43d4-b870-cf96bcda73bd",
      "cell_type": "code",
      "source": "# This is a simple arithmetic expression to multiply then add integers\n\n(3*4)+5",
      "metadata": {
        "trusted": true
      },
      "outputs": [
        {
          "execution_count": 2,
          "output_type": "execute_result",
          "data": {
            "text/plain": "17"
          },
          "metadata": {}
        }
      ],
      "execution_count": 2
    },
    {
      "id": "eb477270-b902-4348-a708-1b2901f8f41f",
      "cell_type": "code",
      "source": "# This will convert 200 minutes to hours by dividing by 60\n\n200/60",
      "metadata": {
        "trusted": true
      },
      "outputs": [
        {
          "execution_count": 3,
          "output_type": "execute_result",
          "data": {
            "text/plain": "3.3333333333333335"
          },
          "metadata": {}
        }
      ],
      "execution_count": 3
    },
    {
      "id": "1486f54f-d5d7-4391-9b19-d56f87c6d0eb",
      "cell_type": "markdown",
      "source": "## Author\nMarcelo Honorato",
      "metadata": {}
    },
    {
      "id": "fc11d5fd-5eea-4dff-9ce4-80915bcb00e7",
      "cell_type": "code",
      "source": "",
      "metadata": {
        "trusted": true
      },
      "outputs": [],
      "execution_count": null
    }
  ]
}